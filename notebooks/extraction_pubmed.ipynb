{
  "nbformat": 4,
  "nbformat_minor": 0,
  "metadata": {
    "colab": {
      "name": "extraction_pubmed.ipynb",
      "private_outputs": true,
      "provenance": []
    },
    "kernelspec": {
      "name": "python3",
      "display_name": "Python 3"
    },
    "language_info": {
      "name": "python"
    }
  },
  "cells": [
    {
      "cell_type": "code",
      "metadata": {
        "id": "CoqFo4HLuqMJ"
      },
      "source": [
        "!python3 -m pip install pubmed2pdf"
      ],
      "execution_count": null,
      "outputs": []
    },
    {
      "cell_type": "code",
      "metadata": {
        "id": "_auVR6C1vCob"
      },
      "source": [
        "#beautifulsoup4-4.7.1 click-7.0 h11-0.12.0 idna-2.8 lxml-4.3.4 pubmed2pdf-0.0.1 requests-2.22.0 requests3-0.0.0 soupsieve-2.2.1"
      ],
      "execution_count": null,
      "outputs": []
    },
    {
      "cell_type": "code",
      "metadata": {
        "id": "9UYx_KxwvO6t"
      },
      "source": [
        "!python3 -m pubmed2pdf pdf --pmids=\"17529967,28624696,27228256,28649644,28830573,31502769,32100144,30787463,29933179,29326028,29156890,24529560,3798106\""
      ],
      "execution_count": null,
      "outputs": []
    },
    {
      "cell_type": "code",
      "metadata": {
        "id": "bW5MN1bZvg8j"
      },
      "source": [
        "!pwd"
      ],
      "execution_count": null,
      "outputs": []
    },
    {
      "cell_type": "code",
      "metadata": {
        "id": "trTh1wQ5vt6K"
      },
      "source": [
        "from google.colab import drive\n",
        "drive.mount('/content/drive')"
      ],
      "execution_count": null,
      "outputs": []
    },
    {
      "cell_type": "code",
      "metadata": {
        "id": "U4BwrOEcw-Q5"
      },
      "source": [
        "!python"
      ],
      "execution_count": null,
      "outputs": []
    },
    {
      "cell_type": "code",
      "metadata": {
        "id": "KQ88n3bqw_68"
      },
      "source": [
        "\"17529967,28624696,27228256,28649644,28830573,31502769,32100144,30787463,29933179,29326028,29156890,24529560,3798106\"\n"
      ],
      "execution_count": null,
      "outputs": []
    }
  ]
}