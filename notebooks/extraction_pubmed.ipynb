{
 "cells": [
  {
   "cell_type": "code",
   "execution_count": null,
   "metadata": {
    "id": "CoqFo4HLuqMJ"
   },
   "outputs": [],
   "source": [
    "!python3 -m pip install pubmed2pdf"
   ]
  },
  {
   "cell_type": "code",
   "execution_count": null,
   "metadata": {
    "id": "_auVR6C1vCob"
   },
   "outputs": [],
   "source": [
    "# requirements\n",
    "# beautifulsoup4-4.7.1 click-7.0 h11-0.12.0 idna-2.8 lxml-4.3.4 pubmed2pdf-0.0.1 requests-2.22.0 requests3-0.0.0 soupsieve-2.2.1"
   ]
  },
  {
   "cell_type": "code",
   "execution_count": null,
   "metadata": {
    "id": "9UYx_KxwvO6t"
   },
   "outputs": [],
   "source": [
    "# for using string of ids\n",
    "#!python3 -m pubmed2pdf pdf --pmids=\"33773689,33773684\"\n",
    "\n",
    "# for using file with ids\n",
    "!python3 -m pubmed2pdf pdf --pmidsfile=/content/file.txt"
   ]
  },
  {
   "cell_type": "code",
   "execution_count": null,
   "metadata": {
    "id": "o2FAtk2Y-Qk3"
   },
   "outputs": [],
   "source": [
    "!pip install pymed"
   ]
  },
  {
   "cell_type": "code",
   "execution_count": null,
   "metadata": {
    "id": "6faOW9td-ACu"
   },
   "outputs": [],
   "source": [
    "# https://stackoverflow.com/questions/57053378/query-pubmed-with-python-how-to-get-all-article-details-from-query-to-pandas-d\n",
    "\n",
    "from pymed import PubMed\n",
    "import pandas as pd\n",
    "\n",
    "pubmed = PubMed(tool=\"PubMedSearcher\", email=\"***************\")\n",
    "\n",
    "def getmetadata(key, lim):\n",
    "  search_term = key\n",
    "  results = pubmed.query(search_term, max_results=lim)\n",
    "  articleList = []\n",
    "  articleInfo = []\n",
    "\n",
    "  for article in results:\n",
    "  # Print the type of object we've found (can be either PubMedBookArticle or PubMedArticle).\n",
    "  # We need to convert it to dictionary with available function\n",
    "      articleDict = article.toDict()\n",
    "      articleList.append(articleDict)\n",
    "\n",
    "  # Generate list of dict records which will hold all article details that could be fetch from PUBMED API\n",
    "  for article in articleList:\n",
    "  #Sometimes article['pubmed_id'] contains list separated with comma - take first pubmedId in that list - thats article pubmedId\n",
    "      pubmedId = article['pubmed_id'].partition('\\n')[0]\n",
    "      #print(article.keys())\n",
    "      # Append article info to dictionary \n",
    "      try:\n",
    "        articleInfo.append({u'pubmed_id':pubmedId,\n",
    "                          u'title':article['title'],\n",
    "                          u'publication_date':article['publication_date']}),\n",
    "        \"\"\"u'keywords':article['keywords'],\n",
    "        u'journal':article['journal'],\n",
    "        u'abstract':article['abstract'],\n",
    "        u'conclusions':article['conclusions'],\n",
    "        u'methods':article['methods'],\n",
    "        u'results': article['results'],\n",
    "        u'copyrights':article['copyrights'],\n",
    "        u'doi':article['doi'],\n",
    "        u'publication_date':article['publication_date'], \n",
    "        u'authors':article['authors']})\"\"\"\n",
    "      except:\n",
    "        continue\n",
    "\n",
    "  # Generate Pandas DataFrame from list of dictionaries\n",
    "  articlesPD = pd.DataFrame.from_dict(articleInfo)\n",
    "  export_csv = articlesPD.to_csv(f'/root/key_meta/{key}_metadf.csv', index = None, header=True) \n",
    "  print(f'{key} done !!!')\n",
    "\n",
    "#Print first 10 rows of dataframe\n",
    "print(articlesPD.head())"
   ]
  },
  {
   "cell_type": "code",
   "execution_count": null,
   "metadata": {
    "id": "6w6qZF1J-XHs"
   },
   "outputs": [],
   "source": [
    "keydf = pd.read_csv('/content/drive/MyDrive/keywords.csv', sep='\\t')\n",
    "keydf"
   ]
  },
  {
   "cell_type": "code",
   "execution_count": null,
   "metadata": {
    "id": "LDgNsvf4DVIv"
   },
   "outputs": [],
   "source": [
    "for i, key in enumerate(keydf['Keyword']):\n",
    "  if i < 5: continue\n",
    "  print(i,key)\n",
    "\n",
    "  getmetadata(key, 1000)"
   ]
  },
  {
   "cell_type": "code",
   "execution_count": null,
   "metadata": {
    "id": "4hP4aD0ULJ9Y"
   },
   "outputs": [],
   "source": [
    "!zip -r /root/adjuvant.zip /root/pubmed2pdf/"
   ]
  },
  {
   "cell_type": "code",
   "execution_count": null,
   "metadata": {
    "id": "OUkm_ZD1Nesd"
   },
   "outputs": [],
   "source": [
    "df = pd.read_csv('/root/key_meta/adjuvant_metadf.csv')\n",
    "print(*df.pubmed_id.tolist(), sep='\\n', file=open('/content/file.txt', 'w'))"
   ]
  },
  {
   "cell_type": "code",
   "execution_count": null,
   "metadata": {
    "id": "nRZtHC7zP_BQ"
   },
   "outputs": [],
   "source": []
  }
 ],
 "metadata": {
  "colab": {
   "collapsed_sections": [],
   "name": "extraction_pubmed.ipynb",
   "private_outputs": true,
   "provenance": []
  },
  "kernelspec": {
   "display_name": "Python 3",
   "language": "python",
   "name": "python3"
  },
  "language_info": {
   "codemirror_mode": {
    "name": "ipython",
    "version": 3
   },
   "file_extension": ".py",
   "mimetype": "text/x-python",
   "name": "python",
   "nbconvert_exporter": "python",
   "pygments_lexer": "ipython3",
   "version": "3.8.5"
  }
 },
 "nbformat": 4,
 "nbformat_minor": 1
}
